{
 "cells": [
  {
   "cell_type": "code",
   "execution_count": 1,
   "metadata": {
    "colab": {
     "base_uri": "https://localhost:8080/",
     "height": 54
    },
    "colab_type": "code",
    "id": "yvopUZ04m1rt",
    "outputId": "07988b6f-89ed-42d5-b05e-977f0cc238f9"
   },
   "outputs": [
    {
     "name": "stderr",
     "output_type": "stream",
     "text": [
      "Using TensorFlow backend.\n"
     ]
    }
   ],
   "source": [
    "import os\n",
    "os.environ['TF_CPP_MIN_LOG_LEVEL'] = '2'\n",
    "import numpy as np\n",
    "from PIL import Image\n",
    "import tensorflow.python.platform\n",
    "import tensorflow as tf\n",
    "from sklearn.utils import class_weight\n",
    "\n",
    "from mask_to_submission import masks_to_submission\n",
    "from data_extraction import load_data_unet\n",
    "from unet_pred import get_pred_img_pixelwise, make_img_overlay_pixel, get_postprocessed_unet\n",
    "from unet_model import create_model_unet\n",
    "\n",
    "from keras import backend as K\n",
    "from keras.layers import Input\n",
    "from keras.optimizers import Adam\n",
    "from keras.losses import categorical_crossentropy\n",
    "from keras.callbacks import EarlyStopping, ModelCheckpoint\n",
    "\n",
    "\n",
    "NUM_CHANNELS = 3 \n",
    "PIXEL_DEPTH = 255\n",
    "NUM_LABELS = 2\n",
    "\n",
    "TRAINING_SIZE = 2\n",
    "TESTING_SIZE = 50\n",
    "VALIDATION_SIZE = 1\n",
    "IMG_DIMENSION = 400\n",
    "\n",
    "BATCH_SIZE = 4 \n",
    "NUM_EPOCHS = 1\n",
    "MAX_AUG = 1\n",
    "IMG_PATCH_SIZE = 16\n",
    "NOISE_LEVEL = 0.006\n",
    "\n",
    "\n",
    "'''Image paths'''\n",
    "data_dir = '../data/'\n",
    "train_data_filename = data_dir + 'training/images/'\n",
    "train_labels_filename = data_dir + 'training/groundtruth/' \n",
    "test_data_filename = data_dir + 'test_set_images'\n",
    "\n",
    "\n",
    "'''Path for storing the augmented training images'''\n",
    "aug_img_path = data_dir +'training/augmented/images'\n",
    "aug_gt_path = data_dir + 'training/augmented/groundtruth'\n",
    "\n",
    "\n",
    "'''Path to store best weights and the submission file, and the predicted images'''\n",
    "weight_path = '../weights/'\n",
    "weight_filename = 'chechpoint.weights.unet.hdf5'\n",
    "submission_path = '../submission.csv'\n",
    "pred_test_path = '../predictions_test/'\n",
    "\n",
    "\n",
    "'''Path to store results after post-processing'''\n",
    "postprocess_path = '../predictions_test_pp/'\n",
    "pp_submission_path = '../submission_pp.csv'\n"
   ]
  },
  {
   "cell_type": "code",
   "execution_count": 2,
   "metadata": {
    "colab": {
     "base_uri": "https://localhost:8080/",
     "height": 170
    },
    "colab_type": "code",
    "id": "FNnxJo5knjlQ",
    "outputId": "27f31063-21f5-47b7-cc4a-1cf4c04d3ee0"
   },
   "outputs": [
    {
     "name": "stdout",
     "output_type": "stream",
     "text": [
      "Augmenting training images...\n",
      "Directory  ../data/training/augmented/images  already exists, overwritten\n",
      "Directory  ../data/training/augmented/groundtruth  already exists, overwritten\n",
      "Train data shape:  (4, 400, 400, 3)\n",
      "Train labels shape:  (4, 400, 400, 2)\n",
      "Test data shape:  (50, 608, 608, 3)\n",
      "Number of samples in class 1 (background):  480767\n",
      "Number of samples in class 2 (road):  159233 \n",
      "\n"
     ]
    }
   ],
   "source": [
    "'''Loading data'''\n",
    "\n",
    "x_train, y_train, x_test, x_val, y_val = load_data_unet(train_data_filename, train_labels_filename, test_data_filename, TRAINING_SIZE, TESTING_SIZE,VALIDATION_SIZE, IMG_DIMENSION,\n",
    "  saltpepper=NOISE_LEVEL, augment=True, MAX_AUG=MAX_AUG, augImgDir=aug_img_path , data_dir=data_dir, groundTruthDir =aug_gt_path)"
   ]
  },
  {
   "cell_type": "code",
   "execution_count": 3,
   "metadata": {
    "colab": {
     "base_uri": "https://localhost:8080/",
     "height": 34
    },
    "colab_type": "code",
    "id": "25DNYPNgnkP3",
    "outputId": "93b09692-11c6-4373-d0e9-c47349f0d2af"
   },
   "outputs": [
    {
     "name": "stdout",
     "output_type": "stream",
     "text": [
      "Class weights:  [0.66560309 2.00963368]\n"
     ]
    }
   ],
   "source": [
    "'''Computing class weights'''\n",
    "\n",
    "classes = np.array([0,1])\n",
    "class_weights = class_weight.compute_class_weight('balanced', classes, y_train[:,:,:,0].flatten())\n",
    "\n",
    "print('Class weights: ', class_weights) "
   ]
  },
  {
   "cell_type": "code",
   "execution_count": 4,
   "metadata": {
    "colab": {
     "base_uri": "https://localhost:8080/",
     "height": 2808
    },
    "colab_type": "code",
    "id": "Jds_lu_roHgs",
    "outputId": "101d8ffa-39b5-47c8-924f-e1844a79748e"
   },
   "outputs": [
    {
     "name": "stdout",
     "output_type": "stream",
     "text": [
      "__________________________________________________________________________________________________\n",
      "Layer (type)                    Output Shape         Param #     Connected to                     \n",
      "==================================================================================================\n",
      "input_1 (InputLayer)            (None, 400, 400, 3)  0                                            \n",
      "__________________________________________________________________________________________________\n",
      "conv2d_1 (Conv2D)               (None, 400, 400, 32) 896         input_1[0][0]                    \n",
      "__________________________________________________________________________________________________\n",
      "batch_normalization_1 (BatchNor (None, 400, 400, 32) 128         conv2d_1[0][0]                   \n",
      "__________________________________________________________________________________________________\n",
      "activation_1 (Activation)       (None, 400, 400, 32) 0           batch_normalization_1[0][0]      \n",
      "__________________________________________________________________________________________________\n",
      "conv2d_2 (Conv2D)               (None, 400, 400, 32) 9248        activation_1[0][0]               \n",
      "__________________________________________________________________________________________________\n",
      "batch_normalization_2 (BatchNor (None, 400, 400, 32) 128         conv2d_2[0][0]                   \n",
      "__________________________________________________________________________________________________\n",
      "activation_2 (Activation)       (None, 400, 400, 32) 0           batch_normalization_2[0][0]      \n",
      "__________________________________________________________________________________________________\n",
      "max_pooling2d_1 (MaxPooling2D)  (None, 200, 200, 32) 0           activation_2[0][0]               \n",
      "__________________________________________________________________________________________________\n",
      "dropout_1 (Dropout)             (None, 200, 200, 32) 0           max_pooling2d_1[0][0]            \n",
      "__________________________________________________________________________________________________\n",
      "conv2d_3 (Conv2D)               (None, 200, 200, 64) 18496       dropout_1[0][0]                  \n",
      "__________________________________________________________________________________________________\n",
      "batch_normalization_3 (BatchNor (None, 200, 200, 64) 256         conv2d_3[0][0]                   \n",
      "__________________________________________________________________________________________________\n",
      "activation_3 (Activation)       (None, 200, 200, 64) 0           batch_normalization_3[0][0]      \n",
      "__________________________________________________________________________________________________\n",
      "conv2d_4 (Conv2D)               (None, 200, 200, 64) 36928       activation_3[0][0]               \n",
      "__________________________________________________________________________________________________\n",
      "batch_normalization_4 (BatchNor (None, 200, 200, 64) 256         conv2d_4[0][0]                   \n",
      "__________________________________________________________________________________________________\n",
      "activation_4 (Activation)       (None, 200, 200, 64) 0           batch_normalization_4[0][0]      \n",
      "__________________________________________________________________________________________________\n",
      "max_pooling2d_2 (MaxPooling2D)  (None, 100, 100, 64) 0           activation_4[0][0]               \n",
      "__________________________________________________________________________________________________\n",
      "dropout_2 (Dropout)             (None, 100, 100, 64) 0           max_pooling2d_2[0][0]            \n",
      "__________________________________________________________________________________________________\n",
      "conv2d_5 (Conv2D)               (None, 100, 100, 128 73856       dropout_2[0][0]                  \n",
      "__________________________________________________________________________________________________\n",
      "batch_normalization_5 (BatchNor (None, 100, 100, 128 512         conv2d_5[0][0]                   \n",
      "__________________________________________________________________________________________________\n",
      "activation_5 (Activation)       (None, 100, 100, 128 0           batch_normalization_5[0][0]      \n",
      "__________________________________________________________________________________________________\n",
      "conv2d_6 (Conv2D)               (None, 100, 100, 128 147584      activation_5[0][0]               \n",
      "__________________________________________________________________________________________________\n",
      "batch_normalization_6 (BatchNor (None, 100, 100, 128 512         conv2d_6[0][0]                   \n",
      "__________________________________________________________________________________________________\n",
      "activation_6 (Activation)       (None, 100, 100, 128 0           batch_normalization_6[0][0]      \n",
      "__________________________________________________________________________________________________\n",
      "max_pooling2d_3 (MaxPooling2D)  (None, 50, 50, 128)  0           activation_6[0][0]               \n",
      "__________________________________________________________________________________________________\n",
      "dropout_3 (Dropout)             (None, 50, 50, 128)  0           max_pooling2d_3[0][0]            \n",
      "__________________________________________________________________________________________________\n",
      "conv2d_7 (Conv2D)               (None, 50, 50, 256)  295168      dropout_3[0][0]                  \n",
      "__________________________________________________________________________________________________\n",
      "batch_normalization_7 (BatchNor (None, 50, 50, 256)  1024        conv2d_7[0][0]                   \n",
      "__________________________________________________________________________________________________\n",
      "activation_7 (Activation)       (None, 50, 50, 256)  0           batch_normalization_7[0][0]      \n",
      "__________________________________________________________________________________________________\n",
      "conv2d_8 (Conv2D)               (None, 50, 50, 256)  590080      activation_7[0][0]               \n",
      "__________________________________________________________________________________________________\n",
      "batch_normalization_8 (BatchNor (None, 50, 50, 256)  1024        conv2d_8[0][0]                   \n",
      "__________________________________________________________________________________________________\n",
      "activation_8 (Activation)       (None, 50, 50, 256)  0           batch_normalization_8[0][0]      \n",
      "__________________________________________________________________________________________________\n",
      "max_pooling2d_4 (MaxPooling2D)  (None, 25, 25, 256)  0           activation_8[0][0]               \n",
      "__________________________________________________________________________________________________\n",
      "dropout_4 (Dropout)             (None, 25, 25, 256)  0           max_pooling2d_4[0][0]            \n",
      "__________________________________________________________________________________________________\n",
      "conv2d_9 (Conv2D)               (None, 25, 25, 512)  1180160     dropout_4[0][0]                  \n",
      "__________________________________________________________________________________________________\n",
      "batch_normalization_9 (BatchNor (None, 25, 25, 512)  2048        conv2d_9[0][0]                   \n",
      "__________________________________________________________________________________________________\n",
      "activation_9 (Activation)       (None, 25, 25, 512)  0           batch_normalization_9[0][0]      \n",
      "__________________________________________________________________________________________________\n",
      "conv2d_10 (Conv2D)              (None, 25, 25, 512)  2359808     activation_9[0][0]               \n",
      "__________________________________________________________________________________________________\n",
      "batch_normalization_10 (BatchNo (None, 25, 25, 512)  2048        conv2d_10[0][0]                  \n",
      "__________________________________________________________________________________________________\n",
      "activation_10 (Activation)      (None, 25, 25, 512)  0           batch_normalization_10[0][0]     \n",
      "__________________________________________________________________________________________________\n",
      "conv2d_transpose_1 (Conv2DTrans (None, 50, 50, 256)  1179904     activation_10[0][0]              \n",
      "__________________________________________________________________________________________________\n",
      "concatenate_1 (Concatenate)     (None, 50, 50, 512)  0           conv2d_transpose_1[0][0]         \n",
      "                                                                 activation_8[0][0]               \n",
      "__________________________________________________________________________________________________\n",
      "dropout_5 (Dropout)             (None, 50, 50, 512)  0           concatenate_1[0][0]              \n",
      "__________________________________________________________________________________________________\n",
      "conv2d_11 (Conv2D)              (None, 50, 50, 256)  1179904     dropout_5[0][0]                  \n",
      "__________________________________________________________________________________________________\n",
      "batch_normalization_11 (BatchNo (None, 50, 50, 256)  1024        conv2d_11[0][0]                  \n",
      "__________________________________________________________________________________________________\n",
      "activation_11 (Activation)      (None, 50, 50, 256)  0           batch_normalization_11[0][0]     \n",
      "__________________________________________________________________________________________________\n",
      "conv2d_12 (Conv2D)              (None, 50, 50, 256)  590080      activation_11[0][0]              \n",
      "__________________________________________________________________________________________________\n",
      "batch_normalization_12 (BatchNo (None, 50, 50, 256)  1024        conv2d_12[0][0]                  \n",
      "__________________________________________________________________________________________________\n",
      "activation_12 (Activation)      (None, 50, 50, 256)  0           batch_normalization_12[0][0]     \n",
      "__________________________________________________________________________________________________\n",
      "conv2d_transpose_2 (Conv2DTrans (None, 100, 100, 128 295040      activation_12[0][0]              \n",
      "__________________________________________________________________________________________________\n",
      "concatenate_2 (Concatenate)     (None, 100, 100, 256 0           conv2d_transpose_2[0][0]         \n",
      "                                                                 activation_6[0][0]               \n",
      "__________________________________________________________________________________________________\n",
      "dropout_6 (Dropout)             (None, 100, 100, 256 0           concatenate_2[0][0]              \n",
      "__________________________________________________________________________________________________\n",
      "conv2d_13 (Conv2D)              (None, 100, 100, 128 295040      dropout_6[0][0]                  \n",
      "__________________________________________________________________________________________________\n",
      "batch_normalization_13 (BatchNo (None, 100, 100, 128 512         conv2d_13[0][0]                  \n",
      "__________________________________________________________________________________________________\n",
      "activation_13 (Activation)      (None, 100, 100, 128 0           batch_normalization_13[0][0]     \n",
      "__________________________________________________________________________________________________\n",
      "conv2d_14 (Conv2D)              (None, 100, 100, 128 147584      activation_13[0][0]              \n",
      "__________________________________________________________________________________________________\n",
      "batch_normalization_14 (BatchNo (None, 100, 100, 128 512         conv2d_14[0][0]                  \n",
      "__________________________________________________________________________________________________\n",
      "activation_14 (Activation)      (None, 100, 100, 128 0           batch_normalization_14[0][0]     \n",
      "__________________________________________________________________________________________________\n",
      "conv2d_transpose_3 (Conv2DTrans (None, 200, 200, 64) 73792       activation_14[0][0]              \n",
      "__________________________________________________________________________________________________\n",
      "concatenate_3 (Concatenate)     (None, 200, 200, 128 0           conv2d_transpose_3[0][0]         \n",
      "                                                                 activation_4[0][0]               \n",
      "__________________________________________________________________________________________________\n",
      "dropout_7 (Dropout)             (None, 200, 200, 128 0           concatenate_3[0][0]              \n",
      "__________________________________________________________________________________________________\n",
      "conv2d_15 (Conv2D)              (None, 200, 200, 64) 73792       dropout_7[0][0]                  \n",
      "__________________________________________________________________________________________________\n",
      "batch_normalization_15 (BatchNo (None, 200, 200, 64) 256         conv2d_15[0][0]                  \n",
      "__________________________________________________________________________________________________\n",
      "activation_15 (Activation)      (None, 200, 200, 64) 0           batch_normalization_15[0][0]     \n",
      "__________________________________________________________________________________________________\n",
      "conv2d_16 (Conv2D)              (None, 200, 200, 64) 36928       activation_15[0][0]              \n",
      "__________________________________________________________________________________________________\n",
      "batch_normalization_16 (BatchNo (None, 200, 200, 64) 256         conv2d_16[0][0]                  \n",
      "__________________________________________________________________________________________________\n",
      "activation_16 (Activation)      (None, 200, 200, 64) 0           batch_normalization_16[0][0]     \n",
      "__________________________________________________________________________________________________\n",
      "conv2d_transpose_4 (Conv2DTrans (None, 400, 400, 32) 18464       activation_16[0][0]              \n",
      "__________________________________________________________________________________________________\n",
      "concatenate_4 (Concatenate)     (None, 400, 400, 64) 0           conv2d_transpose_4[0][0]         \n",
      "                                                                 activation_2[0][0]               \n",
      "__________________________________________________________________________________________________\n",
      "dropout_8 (Dropout)             (None, 400, 400, 64) 0           concatenate_4[0][0]              \n",
      "__________________________________________________________________________________________________\n",
      "conv2d_17 (Conv2D)              (None, 400, 400, 32) 18464       dropout_8[0][0]                  \n",
      "__________________________________________________________________________________________________\n",
      "batch_normalization_17 (BatchNo (None, 400, 400, 32) 128         conv2d_17[0][0]                  \n",
      "__________________________________________________________________________________________________\n",
      "activation_17 (Activation)      (None, 400, 400, 32) 0           batch_normalization_17[0][0]     \n",
      "__________________________________________________________________________________________________\n",
      "conv2d_18 (Conv2D)              (None, 400, 400, 32) 9248        activation_17[0][0]              \n",
      "__________________________________________________________________________________________________\n",
      "batch_normalization_18 (BatchNo (None, 400, 400, 32) 128         conv2d_18[0][0]                  \n",
      "__________________________________________________________________________________________________\n",
      "activation_18 (Activation)      (None, 400, 400, 32) 0           batch_normalization_18[0][0]     \n",
      "__________________________________________________________________________________________________\n",
      "conv2d_19 (Conv2D)              (None, 400, 400, 2)  66          activation_18[0][0]              \n",
      "==================================================================================================\n",
      "Total params: 8,642,306\n",
      "Trainable params: 8,636,418\n",
      "Non-trainable params: 5,888\n",
      "__________________________________________________________________________________________________\n"
     ]
    }
   ],
   "source": [
    "'''Loading model'''\n",
    "\n",
    "inputs = Input((IMG_DIMENSION, IMG_DIMENSION,NUM_CHANNELS))\n",
    "model = create_model_unet(inputs,n_filters=32, dropout=0.05)\n",
    "model.summary()"
   ]
  },
  {
   "cell_type": "code",
   "execution_count": 5,
   "metadata": {
    "colab": {},
    "colab_type": "code",
    "id": "HE_56DAEoMRq"
   },
   "outputs": [],
   "source": [
    "'''Compiling model'''\n",
    "\n",
    "model.compile(loss=categorical_crossentropy,\n",
    "              optimizer=Adam(),\n",
    "              metrics=['accuracy'])"
   ]
  },
  {
   "cell_type": "code",
   "execution_count": 6,
   "metadata": {
    "colab": {},
    "colab_type": "code",
    "id": "H88mDhTgoVFW"
   },
   "outputs": [],
   "source": [
    "'''Defining chechpoints to ensure the best weights are stored'''\n",
    "\n",
    "if not os.path.isdir(weight_path):\n",
    "    os.mkdir(weight_path)\n",
    "\n",
    "callbacks = [EarlyStopping(patience=10, verbose=1),\n",
    "             \n",
    "             ModelCheckpoint(weight_path+weight_filename, monitor='val_acc', verbose=1, \n",
    "                             save_best_only=True, save_weights_only=True,\n",
    "                             mode='max')]"
   ]
  },
  {
   "cell_type": "code",
   "execution_count": 7,
   "metadata": {
    "colab": {
     "base_uri": "https://localhost:8080/",
     "height": 275
    },
    "colab_type": "code",
    "id": "FF6dhzigojnd",
    "outputId": "b0a1a2a2-06bb-4ba8-cc5a-05c11d6e38b6"
   },
   "outputs": [
    {
     "name": "stdout",
     "output_type": "stream",
     "text": [
      "Train on 4 samples, validate on 1 samples\n",
      "Epoch 1/1\n",
      "4/4 [==============================] - 41s 10s/step - loss: 0.9287 - acc: 0.4349 - val_loss: 0.6263 - val_acc: 0.7648\n",
      "\n",
      "Epoch 00001: val_acc improved from -inf to 0.76479, saving model to ../weights/chechpoint.weights.unet.hdf5\n"
     ]
    },
    {
     "data": {
      "text/plain": [
       "<keras.callbacks.History at 0xd38328208>"
      ]
     },
     "execution_count": 7,
     "metadata": {},
     "output_type": "execute_result"
    }
   ],
   "source": [
    "'''Training the model'''\n",
    "\n",
    "model.fit(x_train, y_train,\n",
    "          validation_data=(x_val, y_val),\n",
    "          batch_size=BATCH_SIZE,\n",
    "          epochs=NUM_EPOCHS,\n",
    "          shuffle = True,\n",
    "          verbose=1,\n",
    "          callbacks = callbacks,\n",
    "          class_weight = class_weights\n",
    "          )"
   ]
  },
  {
   "cell_type": "code",
   "execution_count": 8,
   "metadata": {
    "colab": {},
    "colab_type": "code",
    "id": "vbUxLlsJPDDP"
   },
   "outputs": [],
   "source": [
    "'''Ensure we do predictions using the best weights achieved during training'''\n",
    "\n",
    "model.load_weights(weight_path+weight_filename)"
   ]
  },
  {
   "cell_type": "code",
   "execution_count": 14,
   "metadata": {
    "colab": {},
    "colab_type": "code",
    "id": "S3bZxT8-o7A6"
   },
   "outputs": [
    {
     "name": "stdout",
     "output_type": "stream",
     "text": [
      "Creating submission...\n",
      "10 % done\n",
      "20 % done\n",
      "30 % done\n",
      "40 % done\n",
      "50 % done\n",
      "60 % done\n",
      "70 % done\n",
      "80 % done\n",
      "90 % done\n",
      "100 % done\n"
     ]
    }
   ],
   "source": [
    "'''Predicting on the test images, and creating overlay and groundtruth images'''\n",
    "\n",
    "print('Creating submission...')\n",
    "if not os.path.isdir(pred_test_path):\n",
    "    os.mkdir(pred_test_path)\n",
    "    \n",
    "list_filename = []\n",
    "for i in range(1,TESTING_SIZE+1):\n",
    "    if (i%np.floor(TESTING_SIZE/10) == 0):\n",
    "        print(str(int(np.floor(i/np.floor(TESTING_SIZE/10))*10)), '% done')\n",
    "    \n",
    "    gt_pred, original_img = get_pred_img_pixelwise(test_data_filename, i, 'test', model, PIXEL_DEPTH, IMG_DIMENSION,pred_test_path)\n",
    "    gt_filename = pred_test_path + \"gt_pred_\" + str(i) + \".png\"\n",
    "    list_filename.append(gt_filename)\n",
    "    gt_pred.save(gt_filename)\n",
    "\n",
    "    overlay = make_img_overlay_pixel(original_img, gt_pred, PIXEL_DEPTH)\n",
    "    overlay.save(pred_test_path + \"overlay_\" + str(i) + \".png\")"
   ]
  },
  {
   "cell_type": "code",
   "execution_count": 10,
   "metadata": {
    "colab": {
     "base_uri": "https://localhost:8080/",
     "height": 34
    },
    "colab_type": "code",
    "id": "I-1qMgzsMO3J",
    "outputId": "ce59a8d9-55dc-4de1-ba99-6555eed216fa"
   },
   "outputs": [
    {
     "name": "stdout",
     "output_type": "stream",
     "text": [
      "Submission file created, saved at ../submission.csv\n"
     ]
    }
   ],
   "source": [
    "'''Creating the sumbission file'''\n",
    "\n",
    "masks_to_submission(submission_path, *list_filename)\n",
    "print('Submission file created, saved at', submission_path)"
   ]
  },
  {
   "cell_type": "markdown",
   "metadata": {
    "colab_type": "text",
    "id": "Ybd8Rc-DAKVV"
   },
   "source": [
    "**POST-PROCESSING**"
   ]
  },
  {
   "cell_type": "code",
   "execution_count": 11,
   "metadata": {
    "colab": {
     "base_uri": "https://localhost:8080/",
     "height": 71
    },
    "colab_type": "code",
    "id": "rKyKVhNcAyvQ",
    "outputId": "a7f251ee-0ef6-494f-d326-3fcb3744ad72"
   },
   "outputs": [
    {
     "name": "stdout",
     "output_type": "stream",
     "text": [
      "Submission file after post-processing created, saved at ../submission_pp.csv\n",
      "Finished.\n"
     ]
    }
   ],
   "source": [
    "'''Applying post-processing to the images'''\n",
    "\n",
    "post_processed_list = []\n",
    "if not os.path.isdir(postprocess_path):\n",
    "    os.mkdir(postprocess_path)\n",
    "\n",
    "\n",
    "for i in range(1,TESTING_SIZE+1):\n",
    "    p_img = get_postprocessed_unet(pred_test_path, i, 'test')\n",
    "    filename = postprocess_path + \"gt_pred_pp_\" + str(i) + \".png\"\n",
    "    post_processed_list.append(filename)\n",
    "    p_img.save(filename)\n",
    "    \n",
    "    pred = Image.open(filename)\n",
    "    pred = pred.convert('RGB')\n",
    "    imageid = \"/test_%d\" % i\n",
    "    image_filename = test_data_filename + imageid + imageid + \".png\"\n",
    "    original_img = Image.open(image_filename)\n",
    "    \n",
    "    overlay = make_img_overlay_pixel(original_img, pred, PIXEL_DEPTH)\n",
    "    overlay.save(postprocess_path + \"overlay_pp_\" + str(i) + \".png\")\n",
    "\n",
    "\n",
    "\n",
    "'''Saving submission file after post-processing'''\n",
    "\n",
    "masks_to_submission(pp_submission_path, *post_processed_list)\n",
    "print('Submission file after post-processing created, saved at', pp_submission_path)\n",
    "print('Finished.')"
   ]
  },
  {
   "cell_type": "code",
   "execution_count": null,
   "metadata": {},
   "outputs": [],
   "source": []
  }
 ],
 "metadata": {
  "accelerator": "GPU",
  "colab": {
   "collapsed_sections": [],
   "name": "U-net.ipynb",
   "provenance": [],
   "version": "0.3.2"
  },
  "kernelspec": {
   "display_name": "Python 3",
   "language": "python",
   "name": "python3"
  },
  "language_info": {
   "codemirror_mode": {
    "name": "ipython",
    "version": 3
   },
   "file_extension": ".py",
   "mimetype": "text/x-python",
   "name": "python",
   "nbconvert_exporter": "python",
   "pygments_lexer": "ipython3",
   "version": "3.6.5"
  }
 },
 "nbformat": 4,
 "nbformat_minor": 1
}
